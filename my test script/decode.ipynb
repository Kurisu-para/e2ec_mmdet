{
 "cells": [
  {
   "cell_type": "code",
   "execution_count": 2,
   "metadata": {},
   "outputs": [],
   "source": [
    "import torch"
   ]
  },
  {
   "cell_type": "code",
   "execution_count": 3,
   "metadata": {},
   "outputs": [],
   "source": [
    "heat_map = torch.rand([128,128,80])\n",
    "pred_wh = torch.rand([128,128,2])\n",
    "pred_offset = torch.rand([128,128,2])"
   ]
  },
  {
   "cell_type": "code",
   "execution_count": 4,
   "metadata": {},
   "outputs": [
    {
     "data": {
      "text/plain": [
       "tensor([[[0.7010, 0.8813, 0.3542,  ..., 0.1363, 0.8566, 0.9529],\n",
       "         [0.1124, 0.4454, 0.6705,  ..., 0.9078, 0.5223, 0.2276],\n",
       "         [0.7630, 0.8487, 0.7672,  ..., 0.1675, 0.7345, 0.7258],\n",
       "         ...,\n",
       "         [0.9320, 0.4645, 0.9271,  ..., 0.8326, 0.9778, 0.9578],\n",
       "         [0.1572, 0.0357, 0.0141,  ..., 0.0422, 0.7889, 0.4760],\n",
       "         [0.5205, 0.1396, 0.7239,  ..., 0.0925, 0.3858, 0.5362]],\n",
       "\n",
       "        [[0.0459, 0.8894, 0.8997,  ..., 0.0166, 0.8605, 0.5895],\n",
       "         [0.9171, 0.3693, 0.0312,  ..., 0.2074, 0.0296, 0.0189],\n",
       "         [0.9781, 0.9802, 0.1552,  ..., 0.2169, 0.0495, 0.8259],\n",
       "         ...,\n",
       "         [0.4568, 0.8767, 0.4681,  ..., 0.4417, 0.7408, 0.7504],\n",
       "         [0.5906, 0.1073, 0.0170,  ..., 0.4430, 0.7480, 0.5811],\n",
       "         [0.1789, 0.6684, 0.1726,  ..., 0.9524, 0.9379, 0.7664]],\n",
       "\n",
       "        [[0.9093, 0.6771, 0.4679,  ..., 0.8713, 0.0487, 0.0336],\n",
       "         [0.2850, 0.9286, 0.7278,  ..., 0.6076, 0.8065, 0.4010],\n",
       "         [0.4243, 0.7959, 0.7941,  ..., 0.9590, 0.8239, 0.4810],\n",
       "         ...,\n",
       "         [0.6345, 0.2074, 0.5872,  ..., 0.9910, 0.8845, 0.5569],\n",
       "         [0.7716, 0.1062, 0.6032,  ..., 0.3030, 0.9757, 0.1583],\n",
       "         [0.6009, 0.2236, 0.9868,  ..., 0.7758, 0.3391, 0.1558]],\n",
       "\n",
       "        ...,\n",
       "\n",
       "        [[0.0714, 0.9968, 0.7164,  ..., 0.9500, 0.4851, 0.8008],\n",
       "         [0.1637, 0.5709, 0.4874,  ..., 0.4795, 0.8410, 0.7016],\n",
       "         [0.6461, 0.8347, 0.1118,  ..., 0.4483, 0.5077, 0.7706],\n",
       "         ...,\n",
       "         [0.7363, 0.8654, 0.7527,  ..., 0.9248, 0.3724, 0.0119],\n",
       "         [0.5661, 0.0742, 0.7267,  ..., 0.7503, 0.9372, 0.1351],\n",
       "         [0.6994, 0.7744, 0.3390,  ..., 0.6534, 0.1513, 0.7193]],\n",
       "\n",
       "        [[0.3397, 0.7942, 0.9455,  ..., 0.6309, 0.6089, 0.6586],\n",
       "         [0.4749, 0.2281, 0.0068,  ..., 0.6702, 0.2847, 0.7671],\n",
       "         [0.1291, 0.2600, 0.8847,  ..., 0.1051, 0.3989, 0.9302],\n",
       "         ...,\n",
       "         [0.0571, 0.3192, 0.0395,  ..., 0.1934, 0.1237, 0.5601],\n",
       "         [0.0384, 0.6000, 0.8691,  ..., 0.3156, 0.7889, 0.5653],\n",
       "         [0.5898, 0.4832, 0.0586,  ..., 0.0471, 0.1731, 0.2042]],\n",
       "\n",
       "        [[0.0090, 0.9252, 0.9290,  ..., 0.6836, 0.1041, 0.4022],\n",
       "         [0.5189, 0.7035, 0.7343,  ..., 0.7204, 0.2338, 0.3069],\n",
       "         [0.3852, 0.1429, 0.2211,  ..., 0.0079, 0.9116, 0.4011],\n",
       "         ...,\n",
       "         [0.3722, 0.6687, 0.8232,  ..., 0.0743, 0.8013, 0.7426],\n",
       "         [0.4925, 0.0775, 0.1916,  ..., 0.2325, 0.6688, 0.9163],\n",
       "         [0.8062, 0.7146, 0.1621,  ..., 0.6051, 0.9599, 0.1214]]])"
      ]
     },
     "execution_count": 4,
     "metadata": {},
     "output_type": "execute_result"
    }
   ],
   "source": [
    "heat_map"
   ]
  },
  {
   "cell_type": "code",
   "execution_count": 5,
   "metadata": {},
   "outputs": [
    {
     "name": "stderr",
     "output_type": "stream",
     "text": [
      "/home/sjtu/anaconda3/envs/monai_zt/lib/python3.9/site-packages/torch/functional.py:568: UserWarning: torch.meshgrid: in an upcoming release, it will be required to pass the indexing argument. (Triggered internally at  ../aten/src/ATen/native/TensorShape.cpp:2228.)\n",
      "  return _VF.meshgrid(tensors, **kwargs)  # type: ignore[attr-defined]\n"
     ]
    }
   ],
   "source": [
    "yv, xv = torch.meshgrid(torch.arange(0, 128), torch.arange(0,128))"
   ]
  },
  {
   "cell_type": "code",
   "execution_count": 6,
   "metadata": {},
   "outputs": [],
   "source": [
    "# xv = xv.flatten().float()\n",
    "# yv = yv.flatten().float()"
   ]
  },
  {
   "cell_type": "code",
   "execution_count": 7,
   "metadata": {},
   "outputs": [
    {
     "data": {
      "text/plain": [
       "torch.return_types.max(\n",
       "values=tensor([[0.9633, 0.9984, 0.9964,  ..., 0.9921, 0.9911, 0.9924],\n",
       "        [0.9830, 0.9978, 0.9996,  ..., 0.9888, 0.9989, 0.9921],\n",
       "        [0.9835, 0.9947, 0.9932,  ..., 0.9930, 0.9911, 0.9868],\n",
       "        ...,\n",
       "        [0.9968, 0.9906, 0.9981,  ..., 0.9950, 0.9966, 0.9962],\n",
       "        [0.9820, 0.9785, 0.9971,  ..., 0.9987, 0.9912, 0.9778],\n",
       "        [0.9703, 0.9976, 0.9796,  ..., 0.9992, 0.9975, 0.9867]]),\n",
       "indices=tensor([[28, 73, 29,  ..., 56, 32, 31],\n",
       "        [46, 56, 76,  ..., 44, 14, 30],\n",
       "        [ 4, 24, 57,  ...,  7, 25,  2],\n",
       "        ...,\n",
       "        [ 1, 61, 68,  ..., 33, 19, 74],\n",
       "        [66,  6,  3,  ..., 10,  8, 28],\n",
       "        [18, 42, 27,  ..., 16, 53, 63]]))"
      ]
     },
     "execution_count": 7,
     "metadata": {},
     "output_type": "execute_result"
    }
   ],
   "source": [
    "torch.max(heat_map,dim=-1)"
   ]
  },
  {
   "cell_type": "code",
   "execution_count": 8,
   "metadata": {},
   "outputs": [],
   "source": [
    "class_conf, class_pred = torch.max(heat_map,dim=-1)"
   ]
  },
  {
   "cell_type": "code",
   "execution_count": 9,
   "metadata": {},
   "outputs": [],
   "source": [
    "mask = class_conf > 0.995"
   ]
  },
  {
   "cell_type": "code",
   "execution_count": 10,
   "metadata": {},
   "outputs": [],
   "source": [
    "pred_wh_mask = pred_wh[mask]\n",
    "pred_offset_mask = pred_offset[mask]"
   ]
  },
  {
   "cell_type": "code",
   "execution_count": 11,
   "metadata": {},
   "outputs": [],
   "source": [
    "xv_mask = torch.unsqueeze(xv[mask] + pred_offset_mask[..., 0],-1)\n",
    "yv_mask = torch.unsqueeze(yv[mask] + pred_offset_mask[..., 1],-1)"
   ]
  },
  {
   "cell_type": "code",
   "execution_count": 12,
   "metadata": {},
   "outputs": [],
   "source": [
    "half_w, half_h = pred_wh_mask[...,0] / 2, pred_wh_mask[...,1] / 2\n",
    "bboxes = torch.cat([xv_mask - half_w, yv_mask - half_h, xv_mask + half_w, yv_mask + half_h], dim=1)"
   ]
  },
  {
   "cell_type": "code",
   "execution_count": 14,
   "metadata": {},
   "outputs": [
    {
     "data": {
      "text/plain": [
       "tensor([[  1.8619],\n",
       "        [  2.5618],\n",
       "        [  6.9185],\n",
       "        ...,\n",
       "        [122.1024],\n",
       "        [125.0149],\n",
       "        [126.2360]])"
      ]
     },
     "execution_count": 14,
     "metadata": {},
     "output_type": "execute_result"
    }
   ],
   "source": [
    "xv_mask"
   ]
  },
  {
   "cell_type": "code",
   "execution_count": 15,
   "metadata": {},
   "outputs": [
    {
     "data": {
      "text/plain": [
       "tensor([0.4643, 0.3799, 0.0951,  ..., 0.2329, 0.1506, 0.2350])"
      ]
     },
     "execution_count": 15,
     "metadata": {},
     "output_type": "execute_result"
    }
   ],
   "source": [
    "half_w"
   ]
  },
  {
   "cell_type": "code",
   "execution_count": 16,
   "metadata": {},
   "outputs": [
    {
     "data": {
      "text/plain": [
       "tensor([[  1.3976,   1.4820,   1.7668,  ...,   1.6290,   1.7113,   1.6269],\n",
       "        [  2.0976,   2.1819,   2.4668,  ...,   2.3289,   2.4113,   2.3269],\n",
       "        [  6.4542,   6.5385,   6.8234,  ...,   6.6856,   6.7679,   6.6835],\n",
       "        ...,\n",
       "        [121.6381, 121.7225, 122.0073,  ..., 121.8695, 121.9518, 121.8674],\n",
       "        [124.5506, 124.6350, 124.9199,  ..., 124.7820, 124.8643, 124.7800],\n",
       "        [125.7717, 125.8561, 126.1409,  ..., 126.0031, 126.0854, 126.0010]])"
      ]
     },
     "execution_count": 16,
     "metadata": {},
     "output_type": "execute_result"
    }
   ],
   "source": [
    "xv_mask - half_w"
   ]
  },
  {
   "cell_type": "code",
   "execution_count": 18,
   "metadata": {},
   "outputs": [],
   "source": [
    "bboxes[:,[0,2]] /= 128"
   ]
  },
  {
   "cell_type": "code",
   "execution_count": 19,
   "metadata": {},
   "outputs": [
    {
     "data": {
      "text/plain": [
       "tensor([[0.0109, 0.0138],\n",
       "        [0.0164, 0.0193],\n",
       "        [0.0504, 0.0533],\n",
       "        ...,\n",
       "        [0.9503, 0.9532],\n",
       "        [0.9731, 0.9759],\n",
       "        [0.9826, 0.9855]])"
      ]
     },
     "execution_count": 19,
     "metadata": {},
     "output_type": "execute_result"
    }
   ],
   "source": [
    "bboxes[:,[0,2]]"
   ]
  },
  {
   "cell_type": "markdown",
   "metadata": {},
   "source": [
    "实验二，e2ec train_decode.py"
   ]
  },
  {
   "cell_type": "code",
   "execution_count": 22,
   "metadata": {},
   "outputs": [],
   "source": [
    "import torch"
   ]
  },
  {
   "cell_type": "code",
   "execution_count": 23,
   "metadata": {},
   "outputs": [],
   "source": [
    "wh_pred = torch.tensor([16,256,128,128])\n",
    "ct_01 = torch.randn([16,23]).bool()\n",
    "batch = {'ct_ind' : 128 * torch.rand([16,23])}"
   ]
  },
  {
   "cell_type": "code",
   "execution_count": 24,
   "metadata": {},
   "outputs": [
    {
     "data": {
      "text/plain": [
       "4"
      ]
     },
     "execution_count": 24,
     "metadata": {},
     "output_type": "execute_result"
    }
   ],
   "source": [
    "len(wh_pred)"
   ]
  },
  {
   "cell_type": "code",
   "execution_count": 57,
   "metadata": {},
   "outputs": [
    {
     "data": {
      "text/plain": [
       "torch.Size([16, 23])"
      ]
     },
     "execution_count": 57,
     "metadata": {},
     "output_type": "execute_result"
    }
   ],
   "source": [
    "batch['ct_ind'].shape"
   ]
  },
  {
   "cell_type": "code",
   "execution_count": 58,
   "metadata": {},
   "outputs": [],
   "source": [
    "ct_ind = batch['ct_ind'][ct_01]"
   ]
  },
  {
   "cell_type": "code",
   "execution_count": 59,
   "metadata": {},
   "outputs": [
    {
     "data": {
      "text/plain": [
       "tensor([8.5172e+01, 1.8720e+01, 9.4150e+01, 1.0494e+02, 6.4537e+01, 7.1927e+01,\n",
       "        5.5795e+01, 3.8750e+01, 1.1634e+02, 5.5276e+01, 8.0368e+01, 1.1895e+02,\n",
       "        9.9145e+01, 3.5546e+01, 5.5215e+01, 6.1898e+01, 4.7944e+01, 9.3357e+01,\n",
       "        1.1757e+00, 1.1716e+01, 1.1762e+01, 1.1301e+01, 6.2224e+01, 1.7206e+01,\n",
       "        3.0724e+01, 5.2435e-01, 9.4425e+01, 3.6369e+01, 8.6609e+01, 3.9085e+01,\n",
       "        3.7400e+01, 4.3559e+01, 4.5815e+01, 1.6852e+01, 7.4340e+01, 7.2415e+01,\n",
       "        1.2699e+02, 6.2914e+01, 2.7151e+01, 1.5683e+01, 2.7345e+01, 4.3131e+01,\n",
       "        1.0762e+02, 6.7313e+01, 6.7979e+01, 6.9851e+01, 1.8232e+01, 5.5839e+01,\n",
       "        6.8987e+01, 1.2267e+02, 9.6060e+01, 5.6023e+01, 6.9457e+01, 2.4932e+01,\n",
       "        6.5889e+01, 1.2063e+00, 1.1126e+02, 1.2414e+02, 1.0446e+02, 3.9996e+01,\n",
       "        2.1316e+01, 4.6455e+01, 5.9422e+00, 1.1235e+02, 4.6997e+01, 1.2502e+02,\n",
       "        8.9761e+01, 1.1835e+02, 5.3900e+00, 4.6601e+01, 8.6437e+00, 4.2416e+01,\n",
       "        4.5221e+01, 1.2362e+02, 1.0387e+02, 2.9336e+01, 6.4536e+01, 1.2674e+02,\n",
       "        3.8724e+01, 1.3487e+00, 1.1916e+02, 1.0945e+02, 3.2864e+01, 7.6175e+01,\n",
       "        6.7038e+01, 1.0397e+02, 8.1867e+01, 7.2485e+01, 4.7587e+01, 9.4022e+01,\n",
       "        8.2802e+01, 7.6689e+00, 2.7034e-01, 1.8390e+01, 9.6503e-01, 5.2104e+01,\n",
       "        3.2770e+01, 7.4086e+01, 1.1258e+02, 1.5696e+01, 4.4492e+00, 3.9739e+01,\n",
       "        8.5868e+01, 6.8529e+01, 1.1987e+02, 1.2117e+02, 1.2503e+02, 8.4588e+01,\n",
       "        8.2573e-02, 9.0135e+01, 9.0022e+01, 7.1132e+01, 5.8978e+01, 1.8589e+01,\n",
       "        1.1917e+02, 1.2180e+02, 9.3427e+01, 9.1998e+01, 1.0384e+02, 1.6808e+01,\n",
       "        8.4882e+01, 6.8356e+01, 7.2234e+01, 6.6120e+01, 2.7122e+01, 1.0547e+02,\n",
       "        1.0952e+01, 2.4228e+01, 3.8455e+01, 2.7739e+01, 1.2462e+02, 3.6320e+00,\n",
       "        1.9501e+01, 4.2038e+01, 1.0428e+02, 6.3583e+01, 5.8107e+00, 3.9285e+01,\n",
       "        1.2743e+02, 9.9637e+01, 1.0665e+02, 1.1611e+02, 1.5530e+01, 5.7818e+01,\n",
       "        4.3017e+01, 7.0958e+01, 5.4561e+01, 6.6229e+00, 4.4454e+01, 1.2604e+02,\n",
       "        9.2526e+01, 7.7890e+01, 1.2319e+02, 5.2750e+00, 1.0927e+02, 8.0221e+01,\n",
       "        8.9071e+01, 7.9647e+01, 5.3334e+01, 2.4147e+01, 4.4687e+01, 1.1492e+02,\n",
       "        8.8501e+01, 1.2572e+01, 9.3760e+01, 3.5032e+01, 8.0270e+01, 6.0629e+01,\n",
       "        2.8226e+01, 1.1280e+02, 6.3908e+01, 5.2293e+01, 4.7374e+01, 2.8717e-01,\n",
       "        9.1375e+00, 1.4492e+01, 2.1474e+01, 9.5744e+01, 1.2223e+02, 9.5805e+00,\n",
       "        2.8200e+01, 1.0294e+02, 1.3823e+01, 4.6683e+01, 1.3210e+01, 7.6914e+01,\n",
       "        8.6607e+00, 1.2277e+02, 1.0902e+02, 1.1928e+02, 1.0961e+02, 1.0382e+02,\n",
       "        8.3739e+01, 2.1578e+01, 4.7989e+01, 5.5947e+01, 2.1120e+01, 1.0771e+02,\n",
       "        3.8402e+01, 4.1774e+00, 3.6439e+01, 6.7673e+01, 2.4952e+00, 1.1543e+02,\n",
       "        7.2947e+01, 2.8374e+01, 8.1849e+01, 1.2573e+02, 4.4795e+01, 7.9190e+01,\n",
       "        1.1899e+02, 9.6717e+00, 5.5604e+01, 5.5735e-01, 1.9134e+01, 8.3006e+01,\n",
       "        1.2764e+02, 1.1011e+01, 4.6842e+01, 1.1106e+02, 1.2615e+02, 2.5816e+01,\n",
       "        6.5321e+01, 8.8962e+01, 1.1724e+02, 7.6187e+01, 6.4361e+01, 1.7495e+01,\n",
       "        6.4709e+01, 5.5109e+01, 8.6368e+01, 7.2942e+01, 7.6857e+01, 3.9047e+01,\n",
       "        5.7640e+01, 3.0834e+01, 1.9233e+01, 7.9519e+01, 1.4479e+01, 3.5282e+01,\n",
       "        7.7858e+01, 1.1561e+02, 5.9611e+01, 5.2761e+01, 8.3151e+01, 1.2541e+02,\n",
       "        6.8309e+01, 4.8546e+01, 1.0618e+02, 3.2787e+01, 3.4961e+01, 3.2524e+01,\n",
       "        3.7611e+01, 1.2113e+02, 4.4029e+01, 4.8319e+01, 6.7600e+01, 6.1959e+01,\n",
       "        1.1613e+02, 3.7735e+01, 2.2698e+01, 9.0220e+01, 1.1520e+02, 3.7343e+01,\n",
       "        5.2094e+01, 7.2596e+01, 7.4253e+01, 6.7879e+01, 8.3428e+01, 6.0637e+01,\n",
       "        1.0872e+02, 7.1695e+01, 1.2396e+02, 1.0004e+02, 8.0326e+01, 7.6335e+01,\n",
       "        9.7681e+01, 7.0094e+01, 6.7619e+01, 3.4203e+01, 2.6991e+00, 9.9820e+01,\n",
       "        7.1720e+01, 2.6627e+01, 8.0979e+01, 1.7000e+01, 2.9194e+01, 4.1947e+01,\n",
       "        8.0749e+01, 6.0548e+01, 7.8412e+01, 5.2363e+01, 6.2156e+01, 8.1997e+01,\n",
       "        2.9856e+01, 5.0503e+01, 5.9981e+01, 6.6890e+01, 1.0977e+02, 1.5076e+01,\n",
       "        1.2217e+02, 1.0389e+02, 8.9694e+01, 6.0270e+01, 9.3440e+01, 1.0375e+02,\n",
       "        8.0469e+01, 2.7854e+01, 1.1286e+02, 9.5232e+01, 1.1661e+02, 1.0843e+02,\n",
       "        7.6478e+01, 1.5812e+01, 2.7746e+01, 4.0224e+00, 3.1731e+01, 1.1171e+02,\n",
       "        8.6399e+01, 6.5779e+01, 1.2060e+02, 7.1693e+01, 5.6558e+01, 5.1503e+01,\n",
       "        1.1479e+02, 6.0957e+01, 5.7925e+01, 1.7077e+01, 1.2195e+02, 3.1566e+01,\n",
       "        1.0722e+02, 6.5275e+01, 3.0410e+01, 1.0247e+02, 4.5305e+01, 1.0015e+01,\n",
       "        1.0536e+01, 1.0896e+02, 6.5409e+01, 4.0554e+01, 7.5282e+01, 2.5736e+01,\n",
       "        4.7117e+01, 3.2985e+01, 4.0589e+01, 5.6183e+01, 7.5143e+01, 9.8782e+01,\n",
       "        1.0022e+02, 8.7393e+01, 8.7435e+01, 3.6433e+01, 1.0105e+02, 9.8125e+01,\n",
       "        8.0649e+01, 3.3717e+01, 5.6264e+00, 1.0966e+02, 5.6234e+01, 1.0411e+02,\n",
       "        1.1505e+02, 8.9359e+01, 1.2582e+02, 1.1962e+02, 5.0071e+01, 4.7595e+01,\n",
       "        8.0786e+01, 9.9957e+01])"
      ]
     },
     "execution_count": 59,
     "metadata": {},
     "output_type": "execute_result"
    }
   ],
   "source": [
    "ct_ind"
   ]
  },
  {
   "cell_type": "code",
   "execution_count": 2,
   "metadata": {},
   "outputs": [],
   "source": [
    "def train_decode(self, data_input, output, cnn_feature):  # data_input=batch, cnn_feature=cnn_feature, ouput=output\n",
    "        wh_pred = output['wh'] #torch.Size([16, 256, 128, 128])  coco 128*2\n",
    "        ct_01 = data_input['ct_01'].bool()\n",
    "        ct_ind = data_input['ct_ind'][ct_01]\n",
    "        ct_img_idx = data_input['ct_img_idx'][ct_01]\n",
    "        _, _, height, width = data_input['ct_hm'].size() #128,128\n",
    "        ct_x, ct_y = ct_ind % width, ct_ind // width #猜一猜ct_ind是什么:-)\n",
    "\n",
    "        if ct_x.size(0) == 0:\n",
    "            ct_offset = wh_pred[ct_img_idx, :, ct_y, ct_x].view(ct_x.size(0), 1, 2)\n",
    "        else:\n",
    "            ct_offset = wh_pred[ct_img_idx, :, ct_y, ct_x].view(ct_x.size(0), -1, 2)\n",
    "\n",
    "        ct_x, ct_y = ct_x[:, None].to(torch.float32), ct_y[:, None].to(torch.float32)\n",
    "        ct = torch.cat([ct_x, ct_y], dim=1)\n",
    "\n",
    "        init_polys = ct_offset * self.stride + ct.unsqueeze(1).expand(ct_offset.size(0),\n",
    "                                                                      ct_offset.size(1), ct_offset.size(2)) \n",
    "        coarse_polys = self.refine(cnn_feature, ct, init_polys, ct_img_idx.clone()) # global deformation\n",
    "\n",
    "        output.update({'poly_init': init_polys * self.down_sample})\n",
    "        output.update({'poly_coarse': coarse_polys * self.down_sample})\n",
    "        return"
   ]
  },
  {
   "cell_type": "markdown",
   "metadata": {},
   "source": [
    "实验三：ct"
   ]
  },
  {
   "cell_type": "code",
   "execution_count": 43,
   "metadata": {},
   "outputs": [],
   "source": [
    "import torch\n",
    "import warnings\n",
    "warnings.filterwarnings('ignore')"
   ]
  },
  {
   "cell_type": "code",
   "execution_count": 44,
   "metadata": {},
   "outputs": [],
   "source": [
    "ct_01 = torch.randn([16,23])\n",
    "ct_01 = ct_01.ge(0)  \n",
    "wh_pred = torch.rand([16,256,128,128])\n",
    "width = 128"
   ]
  },
  {
   "cell_type": "code",
   "execution_count": 45,
   "metadata": {},
   "outputs": [
    {
     "data": {
      "text/plain": [
       "torch.Size([16, 23])"
      ]
     },
     "execution_count": 45,
     "metadata": {},
     "output_type": "execute_result"
    }
   ],
   "source": [
    "ct_01.shape"
   ]
  },
  {
   "cell_type": "code",
   "execution_count": 46,
   "metadata": {},
   "outputs": [],
   "source": [
    "ct_ind = torch.rand([16,23])\n",
    "ct_img_idx = torch.rand([16,23])"
   ]
  },
  {
   "cell_type": "code",
   "execution_count": 47,
   "metadata": {},
   "outputs": [],
   "source": [
    "ct_ind = ct_ind[ct_01]\n",
    "ct_img_idx = ct_img_idx[ct_01]"
   ]
  },
  {
   "cell_type": "code",
   "execution_count": null,
   "metadata": {},
   "outputs": [],
   "source": [
    "ct_ind"
   ]
  },
  {
   "cell_type": "code",
   "execution_count": 50,
   "metadata": {},
   "outputs": [],
   "source": [
    "ct_x, ct_y = ct_ind % width, ct_ind // width"
   ]
  },
  {
   "cell_type": "code",
   "execution_count": 37,
   "metadata": {},
   "outputs": [
    {
     "data": {
      "text/plain": [
       "torch.Size([173])"
      ]
     },
     "execution_count": 37,
     "metadata": {},
     "output_type": "execute_result"
    }
   ],
   "source": [
    "ct_x.shape"
   ]
  },
  {
   "cell_type": "code",
   "execution_count": 51,
   "metadata": {},
   "outputs": [
    {
     "ename": "IndexError",
     "evalue": "tensors used as indices must be long, byte or bool tensors",
     "output_type": "error",
     "traceback": [
      "\u001b[0;31m---------------------------------------------------------------------------\u001b[0m",
      "\u001b[0;31mIndexError\u001b[0m                                Traceback (most recent call last)",
      "\u001b[0;32m/tmp/ipykernel_1928194/1182914726.py\u001b[0m in \u001b[0;36m<module>\u001b[0;34m\u001b[0m\n\u001b[0;32m----> 1\u001b[0;31m \u001b[0mct_offset\u001b[0m \u001b[0;34m=\u001b[0m \u001b[0mwh_pred\u001b[0m\u001b[0;34m[\u001b[0m\u001b[0mct_img_idx\u001b[0m\u001b[0;34m,\u001b[0m \u001b[0;34m:\u001b[0m\u001b[0;34m,\u001b[0m \u001b[0mct_y\u001b[0m\u001b[0;34m,\u001b[0m \u001b[0mct_x\u001b[0m\u001b[0;34m]\u001b[0m\u001b[0;34m.\u001b[0m\u001b[0mview\u001b[0m\u001b[0;34m(\u001b[0m\u001b[0mct_x\u001b[0m\u001b[0;34m.\u001b[0m\u001b[0msize\u001b[0m\u001b[0;34m(\u001b[0m\u001b[0;36m0\u001b[0m\u001b[0;34m)\u001b[0m\u001b[0;34m,\u001b[0m \u001b[0;34m-\u001b[0m\u001b[0;36m1\u001b[0m\u001b[0;34m,\u001b[0m \u001b[0;36m2\u001b[0m\u001b[0;34m)\u001b[0m\u001b[0;34m\u001b[0m\u001b[0;34m\u001b[0m\u001b[0m\n\u001b[0m",
      "\u001b[0;31mIndexError\u001b[0m: tensors used as indices must be long, byte or bool tensors"
     ]
    }
   ],
   "source": [
    "# ct_offset = wh_pred[ct_img_idx, :, ct_y, ct_x].view(ct_x.size(0), -1, 2)"
   ]
  },
  {
   "cell_type": "code",
   "execution_count": 66,
   "metadata": {},
   "outputs": [],
   "source": [
    "ct_x, ct_y = ct_x[:, None].to(torch.float32), ct_y[:, None].to(torch.float32)"
   ]
  },
  {
   "cell_type": "code",
   "execution_count": null,
   "metadata": {},
   "outputs": [],
   "source": [
    "ct_x"
   ]
  },
  {
   "cell_type": "code",
   "execution_count": 69,
   "metadata": {},
   "outputs": [],
   "source": [
    "ct = torch.cat([ct_x, ct_y], dim=1)"
   ]
  },
  {
   "cell_type": "code",
   "execution_count": 70,
   "metadata": {},
   "outputs": [
    {
     "data": {
      "text/plain": [
       "torch.Size([184, 2])"
      ]
     },
     "execution_count": 70,
     "metadata": {},
     "output_type": "execute_result"
    }
   ],
   "source": [
    "ct.shape"
   ]
  },
  {
   "cell_type": "code",
   "execution_count": 38,
   "metadata": {},
   "outputs": [],
   "source": [
    "ct_img_idx = torch.rand([16,23]).bool()\n",
    "wh_pred = torch.rand([16,256,128,128]).bool()"
   ]
  },
  {
   "cell_type": "code",
   "execution_count": null,
   "metadata": {},
   "outputs": [],
   "source": [
    "ct_offset = wh_pred[ct_img_idx, :, ct_y, ct_x].view(ct_x.size(0), -1, 2)"
   ]
  },
  {
   "cell_type": "code",
   "execution_count": null,
   "metadata": {},
   "outputs": [],
   "source": [
    "ct.unsqueeze(1).expand(ct_offset.size(0),ct_offset.size(1), ct_offset.size(2))"
   ]
  }
 ],
 "metadata": {
  "interpreter": {
   "hash": "c1c7333e133cb8f0cb9f7cbeb28b31cff2f273392a226dce3c6a2ca9d3a7513f"
  },
  "kernelspec": {
   "display_name": "Python 3.9.7 ('monai_zt')",
   "language": "python",
   "name": "python3"
  },
  "language_info": {
   "codemirror_mode": {
    "name": "ipython",
    "version": 3
   },
   "file_extension": ".py",
   "mimetype": "text/x-python",
   "name": "python",
   "nbconvert_exporter": "python",
   "pygments_lexer": "ipython3",
   "version": "3.7.13"
  },
  "orig_nbformat": 4
 },
 "nbformat": 4,
 "nbformat_minor": 2
}
