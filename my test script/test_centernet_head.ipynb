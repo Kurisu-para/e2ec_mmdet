{
 "cells": [
  {
   "cell_type": "code",
   "execution_count": 1,
   "metadata": {},
   "outputs": [],
   "source": [
    "# Copyright (c) OpenMMLab. All rights reserved.\n",
    "import numpy as np\n",
    "import torch\n",
    "import warnings\n",
    "warnings.filterwarnings('ignore')\n",
    "from mmcv import ConfigDict\n",
    "\n",
    "from mmdet.models.dense_heads import CenterNetHead"
   ]
  },
  {
   "cell_type": "code",
   "execution_count": 7,
   "metadata": {},
   "outputs": [],
   "source": [
    "def test_center_head_loss():\n",
    "    \"\"\"Tests center head loss when truth is empty and non-empty.\"\"\"\n",
    "    s = 256\n",
    "    img_metas = [{\n",
    "        'img_shape': (s, s, 3),\n",
    "        'scale_factor': 1,\n",
    "        'pad_shape': (s, s, 3)\n",
    "    }]\n",
    "    test_cfg = dict(topK=100, max_per_img=100)\n",
    "    self = CenterNetHead(\n",
    "        num_classes=80, in_channel=64, feat_channel=64, test_cfg=test_cfg)\n",
    "\n",
    "    feat = [torch.rand(1, 64, s, s)]\n",
    "    center_out, wh_out, offset_out = self.forward(feat)\n",
    "    #print(center_out)\n",
    "    print('feat:', feat[0].shape)\n",
    "    print('center_out:', center_out[0].shape)\n",
    "    print('wh_out:', wh_out[0].shape)\n",
    "    print('offset_out:', offset_out[0].shape)\n",
    "    # Test that empty ground truth encourages the network to predict background\n",
    "    gt_bboxes = [torch.empty((0, 4))]\n",
    "    print(gt_bboxes)\n",
    "    print('gt_bboxes:', gt_bboxes[0].shape)\n",
    "    gt_labels = [torch.LongTensor([])]\n",
    "    print(gt_labels)\n",
    "    print('gt_labels:', gt_labels[0].shape)\n",
    "\n",
    "    gt_bboxes_ignore = None\n",
    "    empty_gt_losses = self.loss(center_out, wh_out, offset_out, gt_bboxes,\n",
    "                                gt_labels, img_metas, gt_bboxes_ignore)\n",
    "    loss_center = empty_gt_losses['loss_center_heatmap']\n",
    "    loss_wh = empty_gt_losses['loss_wh']\n",
    "    loss_offset = empty_gt_losses['loss_offset']\n",
    "    print(loss_center)\n",
    "    print(loss_wh)\n",
    "    print(loss_offset)\n",
    "    assert loss_center.item() > 0, 'loss_center should be non-zero'\n",
    "    assert loss_wh.item() == 0, (\n",
    "        'there should be no loss_wh when there are no true boxes')\n",
    "    assert loss_offset.item() == 0, (\n",
    "        'there should be no loss_offset when there are no true boxes')\n",
    "\n",
    "    # When truth is non-empty then both cls and box loss should be nonzero for\n",
    "    # random inputs\n",
    "    gt_bboxes = [\n",
    "        torch.Tensor([[23.6667, 23.8757, 238.6326, 151.8874]]),\n",
    "    ]\n",
    "    gt_labels = [torch.LongTensor([2])]\n",
    "    one_gt_losses = self.loss(center_out, wh_out, offset_out, gt_bboxes,\n",
    "                              gt_labels, img_metas, gt_bboxes_ignore)\n",
    "    loss_center = one_gt_losses['loss_center_heatmap']\n",
    "    loss_wh = one_gt_losses['loss_wh']\n",
    "    loss_offset = one_gt_losses['loss_offset']\n",
    "    assert loss_center.item() > 0, 'loss_center should be non-zero'\n",
    "    assert loss_wh.item() > 0, 'loss_wh should be non-zero'\n",
    "    assert loss_offset.item() > 0, 'loss_offset should be non-zero'"
   ]
  },
  {
   "cell_type": "code",
   "execution_count": 8,
   "metadata": {},
   "outputs": [
    {
     "name": "stdout",
     "output_type": "stream",
     "text": [
      "feat: torch.Size([1, 64, 256, 256])\n",
      "center_out: torch.Size([1, 80, 256, 256])\n",
      "wh_out: torch.Size([1, 2, 256, 256])\n",
      "offset_out: torch.Size([1, 2, 256, 256])\n",
      "[tensor([], size=(0, 4))]\n",
      "gt_bboxes: torch.Size([0, 4])\n",
      "[tensor([], dtype=torch.int64)]\n",
      "gt_labels: torch.Size([0])\n",
      "tensor(899615.6250, grad_fn=<MulBackward0>)\n",
      "tensor(0., grad_fn=<MulBackward0>)\n",
      "tensor(0., grad_fn=<MulBackward0>)\n"
     ]
    }
   ],
   "source": [
    "test_center_head_loss()"
   ]
  },
  {
   "cell_type": "code",
   "execution_count": null,
   "metadata": {},
   "outputs": [],
   "source": [
    "def test_centernet_head_get_bboxes():\n",
    "    \"\"\"Tests center head generating and decoding the heatmap.\"\"\"\n",
    "    s = 256\n",
    "    img_metas = [{\n",
    "        'img_shape': (s, s, 3),\n",
    "        'scale_factor': np.array([1., 1., 1., 1.]),\n",
    "        'pad_shape': (s, s, 3),\n",
    "        'batch_input_shape': (s, s),\n",
    "        'border': (0, 0, 0, 0),\n",
    "        'flip': False\n",
    "    }]\n",
    "    test_cfg = ConfigDict(\n",
    "        dict(topk=100, local_maximum_kernel=3, max_per_img=100))\n",
    "    gt_bboxes = [\n",
    "        torch.Tensor([[10, 20, 200, 240], [40, 50, 100, 200],\n",
    "                      [10, 20, 100, 240]])\n",
    "    ]\n",
    "    gt_labels = [torch.LongTensor([1, 1, 2])]\n",
    "\n",
    "    self = CenterNetHead(\n",
    "        num_classes=4, in_channel=1, feat_channel=4, test_cfg=test_cfg)\n",
    "    self.feat_shape = (1, 1, s // 4, s // 4)\n",
    "    targets, _ = self.get_targets(gt_bboxes, gt_labels, self.feat_shape,\n",
    "                                  img_metas[0]['pad_shape'])\n",
    "    center_target = targets['center_heatmap_target']\n",
    "    wh_target = targets['wh_target']\n",
    "    offset_target = targets['offset_target']\n",
    "    # make sure assign target right\n",
    "    for i in range(len(gt_bboxes[0])):\n",
    "        bbox, label = gt_bboxes[0][i] / 4, gt_labels[0][i]    # bbox format [tl_x, tl_y, br_x, br_y]\n",
    "        ctx, cty = sum(bbox[0::2]) / 2, sum(bbox[1::2]) / 2   # ctx = (tl_x+br_x)/2, cty = (tl_y+br_y)/2\n",
    "        int_ctx, int_cty = int(sum(bbox[0::2]) / 2), int(sum(bbox[1::2]) / 2)\n",
    "        w, h = bbox[2] - bbox[0], bbox[3] - bbox[1]  # br_x-tl_x, br_y-tl_y\n",
    "        x_off = ctx - int(ctx)\n",
    "        y_off = cty - int(cty)\n",
    "        assert center_target[0, label, int_cty, int_ctx] == 1  # (B, num_classes, H, W)\n",
    "        assert wh_target[0, 0, int_cty, int_ctx] == w  # (B, 2, H, W)\n",
    "        assert wh_target[0, 1, int_cty, int_ctx] == h  \n",
    "        assert offset_target[0, 0, int_cty, int_ctx] == x_off # (B, 2, H, W)\n",
    "        assert offset_target[0, 1, int_cty, int_ctx] == y_off \n",
    "    # make sure get_bboxes is right\n",
    "    detections = self.get_bboxes([center_target], [wh_target], [offset_target],\n",
    "                                 img_metas,\n",
    "                                 rescale=True,\n",
    "                                 with_nms=False)\n",
    "    \"\"\"\n",
    "    list[tuple[Tensor, Tensor]]: Each item in result_list is 2-tuple.\n",
    "                The first item is an (n, 5) tensor, where 5 represent\n",
    "                (tl_x, tl_y, br_x, br_y, score) and the score between 0 and 1.\n",
    "                The shape of the second tensor in the tuple is (n,), and\n",
    "                each element represents the class label of the corresponding\n",
    "                box.\n",
    "    \"\"\"\n",
    "    out_bboxes = detections[0][0][:3] # torch.size([3,5])\n",
    "    out_clses = detections[0][1][:3]  # torch.size([3])\n",
    "    for bbox, cls in zip(out_bboxes, out_clses):\n",
    "        flag = False\n",
    "        for gt_bbox, gt_cls in zip(gt_bboxes[0], gt_labels[0]): #bbox在gt_bboxes里有一个对上（所有元素都相同），flag为True。\n",
    "            if (bbox[:4] == gt_bbox[:4]).all():\n",
    "                flag = True\n",
    "        assert flag, 'get_bboxes is wrong'"
   ]
  },
  {
   "cell_type": "code",
   "execution_count": 129,
   "metadata": {},
   "outputs": [],
   "source": [
    "test_centernet_head_get_bboxes()"
   ]
  },
  {
   "cell_type": "code",
   "execution_count": 2,
   "metadata": {},
   "outputs": [],
   "source": [
    "s = 256\n",
    "img_metas = [{\n",
    "    'img_shape': (s, s, 3),\n",
    "    'scale_factor': np.array([1., 1., 1., 1.]),\n",
    "    'pad_shape': (s, s, 3),\n",
    "    'batch_input_shape': (s, s),\n",
    "    'border': (0, 0, 0, 0),\n",
    "    'flip': False\n",
    "}]\n",
    "test_cfg = ConfigDict(\n",
    "    dict(topk=100, local_maximum_kernel=3, max_per_img=100))\n",
    "gt_bboxes = [\n",
    "    torch.Tensor([[10, 20, 200, 240], [40, 50, 100, 200],\n",
    "                    [10, 20, 100, 240]])\n",
    "]\n",
    "gt_labels = [torch.LongTensor([1, 1, 2])]\n",
    "\n",
    "self = CenterNetHead(\n",
    "    num_classes=4, in_channel=1, feat_channel=4, test_cfg=test_cfg)\n",
    "self.feat_shape = (1, 1, s // 4, s // 4)\n",
    "targets, _ = self.get_targets(gt_bboxes, gt_labels, self.feat_shape,\n",
    "                                img_metas[0]['pad_shape'])\n",
    "center_target = targets['center_heatmap_target']\n",
    "wh_target = targets['wh_target']\n",
    "offset_target = targets['offset_target']"
   ]
  },
  {
   "cell_type": "code",
   "execution_count": 1,
   "metadata": {},
   "outputs": [],
   "source": [
    "import torch"
   ]
  },
  {
   "cell_type": "code",
   "execution_count": 2,
   "metadata": {},
   "outputs": [],
   "source": [
    "gt_bboxes = [\n",
    "        torch.Tensor([[10, 20, 200, 240], [40, 50, 100, 200],\n",
    "                      [10, 20, 100, 240]])\n",
    "    ]"
   ]
  },
  {
   "cell_type": "code",
   "execution_count": 5,
   "metadata": {},
   "outputs": [
    {
     "data": {
      "text/plain": [
       "3"
      ]
     },
     "execution_count": 5,
     "metadata": {},
     "output_type": "execute_result"
    }
   ],
   "source": [
    "len(gt_bboxes[0])"
   ]
  },
  {
   "cell_type": "code",
   "execution_count": 84,
   "metadata": {},
   "outputs": [],
   "source": [
    "bbox = gt_bboxes[0][0] / 4\n",
    "label = gt_labels[0][0] "
   ]
  },
  {
   "cell_type": "code",
   "execution_count": 86,
   "metadata": {},
   "outputs": [
    {
     "data": {
      "text/plain": [
       "tensor([ 2.5000,  5.0000, 50.0000, 60.0000])"
      ]
     },
     "execution_count": 86,
     "metadata": {},
     "output_type": "execute_result"
    }
   ],
   "source": [
    "bbox"
   ]
  },
  {
   "cell_type": "code",
   "execution_count": 85,
   "metadata": {},
   "outputs": [
    {
     "data": {
      "text/plain": [
       "tensor(1)"
      ]
     },
     "execution_count": 85,
     "metadata": {},
     "output_type": "execute_result"
    }
   ],
   "source": [
    "label"
   ]
  },
  {
   "cell_type": "code",
   "execution_count": 87,
   "metadata": {},
   "outputs": [],
   "source": [
    "int_ctx, int_cty = int(sum(bbox[0::2]) / 2), int(sum(bbox[1::2]) / 2)"
   ]
  },
  {
   "cell_type": "code",
   "execution_count": 79,
   "metadata": {},
   "outputs": [
    {
     "data": {
      "text/plain": [
       "tensor(0.2500)"
      ]
     },
     "execution_count": 79,
     "metadata": {},
     "output_type": "execute_result"
    }
   ],
   "source": [
    "sum(bbox[0::2]) / 2 - int(sum(bbox[0::2]) / 2)"
   ]
  },
  {
   "cell_type": "code",
   "execution_count": 80,
   "metadata": {},
   "outputs": [
    {
     "data": {
      "text/plain": [
       "26"
      ]
     },
     "execution_count": 80,
     "metadata": {},
     "output_type": "execute_result"
    }
   ],
   "source": [
    "int(sum(bbox[0::2]) / 2)"
   ]
  },
  {
   "cell_type": "code",
   "execution_count": null,
   "metadata": {},
   "outputs": [],
   "source": [
    "center_target"
   ]
  },
  {
   "cell_type": "code",
   "execution_count": null,
   "metadata": {},
   "outputs": [],
   "source": [
    "detections = self.get_bboxes([center_target], [wh_target], [offset_target],\n",
    "                                 img_metas,\n",
    "                                 rescale=True,\n",
    "                                 with_nms=False)"
   ]
  },
  {
   "cell_type": "code",
   "execution_count": 125,
   "metadata": {},
   "outputs": [],
   "source": [
    "out_bboxes = detections[0][0][:3]\n",
    "out_clses = detections[0][1][:3]"
   ]
  },
  {
   "cell_type": "code",
   "execution_count": 136,
   "metadata": {},
   "outputs": [
    {
     "data": {
      "text/plain": [
       "tensor([2, 1, 1])"
      ]
     },
     "execution_count": 136,
     "metadata": {},
     "output_type": "execute_result"
    }
   ],
   "source": [
    "out_clses"
   ]
  },
  {
   "cell_type": "code",
   "execution_count": 137,
   "metadata": {},
   "outputs": [
    {
     "data": {
      "text/plain": [
       "<zip at 0x7f9ea2874fa0>"
      ]
     },
     "execution_count": 137,
     "metadata": {},
     "output_type": "execute_result"
    }
   ],
   "source": [
    "zip(out_bboxes, out_clses)"
   ]
  },
  {
   "cell_type": "code",
   "execution_count": 151,
   "metadata": {},
   "outputs": [
    {
     "name": "stdout",
     "output_type": "stream",
     "text": [
      "False\n",
      "False\n",
      "True\n",
      "True\n",
      "True\n",
      "True\n",
      "False\n",
      "True\n",
      "True\n"
     ]
    }
   ],
   "source": [
    "for bbox, cls in zip(out_bboxes, out_clses):\n",
    "        # print('bbox',bbox)\n",
    "        # print(cls)\n",
    "        flag = False\n",
    "        for gt_bbox, gt_cls in zip(gt_bboxes[0], gt_labels[0]):\n",
    "            # print('gt_bbox',gt_bbox)\n",
    "            # print(gt_cls)\n",
    "            if (bbox[:4] == gt_bbox[:4]).all():\n",
    "                flag = True\n",
    "            print(flag)\n",
    "        assert flag, 'get_bboxes is wrong'"
   ]
  },
  {
   "cell_type": "code",
   "execution_count": 140,
   "metadata": {},
   "outputs": [
    {
     "data": {
      "text/plain": [
       "tensor([ 10.,  20., 100., 240.])"
      ]
     },
     "execution_count": 140,
     "metadata": {},
     "output_type": "execute_result"
    }
   ],
   "source": [
    "out_bboxes[0][:4]"
   ]
  },
  {
   "cell_type": "code",
   "execution_count": 144,
   "metadata": {},
   "outputs": [
    {
     "data": {
      "text/plain": [
       "tensor([ 10.,  20., 200., 240.])"
      ]
     },
     "execution_count": 144,
     "metadata": {},
     "output_type": "execute_result"
    }
   ],
   "source": [
    "gt_bboxes[0][0][:4]"
   ]
  },
  {
   "cell_type": "code",
   "execution_count": 152,
   "metadata": {},
   "outputs": [
    {
     "data": {
      "text/plain": [
       "tensor(True)"
      ]
     },
     "execution_count": 152,
     "metadata": {},
     "output_type": "execute_result"
    }
   ],
   "source": [
    "(out_bboxes[0][:4] == gt_bboxes[0][2][:4]).all()"
   ]
  }
 ],
 "metadata": {
  "interpreter": {
   "hash": "b2630c2f2ff29b80bb7069a49673beb6ea22ae3f175088290d37a222dbaefe30"
  },
  "kernelspec": {
   "display_name": "Python 3.7.13 ('open-mmlab')",
   "language": "python",
   "name": "python3"
  },
  "language_info": {
   "codemirror_mode": {
    "name": "ipython",
    "version": 3
   },
   "file_extension": ".py",
   "mimetype": "text/x-python",
   "name": "python",
   "nbconvert_exporter": "python",
   "pygments_lexer": "ipython3",
   "version": "3.7.13"
  },
  "orig_nbformat": 4
 },
 "nbformat": 4,
 "nbformat_minor": 2
}
